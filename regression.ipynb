{
  "cells": [
    {
      "metadata": {
        "collapsed": true
      },
      "cell_type": "markdown",
      "source": "Load the python packages"
    },
    {
      "metadata": {
        "trusted": true
      },
      "cell_type": "code",
      "source": "import pandas as pd\nfrom sklearn import preprocessing\nimport sklearn.model_selection as ms\nfrom sklearn import linear_model\nimport sklearn.metrics as sklm\nimport numpy as np\nimport numpy.random as nr\nimport matplotlib.pyplot as plt\nimport seaborn as sns\nimport scipy.stats as ss\nimport math\n\n\n%matplotlib inline",
      "execution_count": null,
      "outputs": []
    },
    {
      "metadata": {},
      "cell_type": "markdown",
      "source": "load three datasets"
    },
    {
      "metadata": {
        "trusted": true
      },
      "cell_type": "code",
      "source": "aw_custs = pd.read_csv('AdvWorksCusts.csv')\naw_aveMonth = pd.read_csv('AW_AveMonthSpend.csv')\naw_bike=pd.read_csv('AW_BikeBuyer.csv')",
      "execution_count": null,
      "outputs": []
    },
    {
      "metadata": {
        "trusted": true
      },
      "cell_type": "code",
      "source": "print(aw_custs.dtypes)\naw_custs.head()\naw_custs.describe()",
      "execution_count": null,
      "outputs": []
    },
    {
      "metadata": {},
      "cell_type": "markdown",
      "source": "check the number of NAN in each column"
    },
    {
      "metadata": {
        "trusted": true
      },
      "cell_type": "code",
      "source": "for col in aw_custs.columns:\n    if aw_custs[col].dtype == object:\n        count = 0\n        count = [count + 1 for x in aw_custs[col] if pd.notna(x)]\n        print(col + ' ' + str(sum(count)))",
      "execution_count": null,
      "outputs": []
    },
    {
      "metadata": {
        "trusted": true
      },
      "cell_type": "code",
      "source": "drop the colomn which has too many NAN",
      "execution_count": null,
      "outputs": []
    },
    {
      "metadata": {
        "trusted": true
      },
      "cell_type": "code",
      "source": "aw_custs = aw_custs.drop(['Title','Suffix','AddressLine2'], axis=1)",
      "execution_count": null,
      "outputs": []
    },
    {
      "metadata": {},
      "cell_type": "markdown",
      "source": "combine first name and middle name"
    },
    {
      "metadata": {
        "trusted": true
      },
      "cell_type": "code",
      "source": "def combineName():\n    result=[]\n    for f, m in zip(aw_custs['FirstName'], aw_custs['MiddleName']):\n        if pd.notna(m):\n            result.append(f+'.'+m)\n        else:\n            result.append(f)\n    return result\n    \naw_custs['FirstName'] = combineName()",
      "execution_count": null,
      "outputs": []
    },
    {
      "metadata": {
        "trusted": true
      },
      "cell_type": "code",
      "source": "aw_custs = aw_custs.drop(['MiddleName'],axis=1)",
      "execution_count": null,
      "outputs": []
    },
    {
      "metadata": {
        "trusted": true
      },
      "cell_type": "code",
      "source": "aw_custs.CustomerID.unique().shape\naw_custs.shape\naw_custs.dtypes",
      "execution_count": null,
      "outputs": []
    },
    {
      "metadata": {
        "trusted": true
      },
      "cell_type": "code",
      "source": "aw_aveMonth.CustomerID.unique().shape\naw_aveMonth.shape\naw_aveMonth.dtypes",
      "execution_count": null,
      "outputs": []
    },
    {
      "metadata": {
        "trusted": true
      },
      "cell_type": "code",
      "source": "print(aw_bike.CustomerID.unique().shape)\naw_bike.shape",
      "execution_count": null,
      "outputs": []
    },
    {
      "metadata": {},
      "cell_type": "markdown",
      "source": "remove rows of duplicate customer id, since id is unique. keep the latest one"
    },
    {
      "metadata": {
        "trusted": true
      },
      "cell_type": "code",
      "source": "aw_custs.drop_duplicates(subset='CustomerID', keep='last', inplace=True)",
      "execution_count": null,
      "outputs": []
    },
    {
      "metadata": {
        "trusted": true
      },
      "cell_type": "code",
      "source": "aw_aveMonth.drop_duplicates(subset='CustomerID', keep='last', inplace=True)",
      "execution_count": null,
      "outputs": []
    },
    {
      "metadata": {
        "trusted": true
      },
      "cell_type": "code",
      "source": "aw_bike.drop_duplicates(subset='CustomerID', keep='last', inplace=True)",
      "execution_count": null,
      "outputs": []
    },
    {
      "metadata": {
        "trusted": true
      },
      "cell_type": "code",
      "source": "for col in aw_aveMonth.columns:\n    if aw_aveMonth[col].dtype == np.int64:\n        count = 0\n        count = [count + 1 for x in aw_aveMonth[col] if x<0]\n        print(col + ' ' + str(sum(count)))",
      "execution_count": null,
      "outputs": []
    },
    {
      "metadata": {
        "trusted": true
      },
      "cell_type": "code",
      "source": "for col in aw_bike.columns:\n    if aw_bike[col].dtype == np.int64:\n        count = 0\n        count = [count + 1 for x in aw_bike[col] if x>1]\n        print(col + ' ' + str(sum(count)))",
      "execution_count": null,
      "outputs": []
    },
    {
      "metadata": {},
      "cell_type": "markdown",
      "source": "colomns will be used as features"
    },
    {
      "metadata": {
        "trusted": true
      },
      "cell_type": "code",
      "source": "def count_unique(aw_custs,cols):\n    for col in cols:\n        print('\\n' + 'For column ' + col)\n        print(aw_custs[col].value_counts())\ncols=[*aw_custs.columns[6:7],*aw_custs.columns[10:]]\ncols\n#count_unique(aw_custs,cols)",
      "execution_count": null,
      "outputs": []
    },
    {
      "metadata": {},
      "cell_type": "markdown",
      "source": "visualize the features"
    },
    {
      "metadata": {
        "trusted": true
      },
      "cell_type": "code",
      "source": "def plot_bars(aw_custs,cols):\n    for col in cols:\n        fig=plt.figure(figsize=(6,6))\n        ax=fig.gca()\n        counts=aw_custs[col].value_counts()\n        counts.plot.bar(ax=ax,color='blue')\n        plt.show()\nplot_bars(aw_custs,cols)",
      "execution_count": null,
      "outputs": []
    },
    {
      "metadata": {},
      "cell_type": "markdown",
      "source": "create dummy variable for those categorical features"
    },
    {
      "metadata": {
        "trusted": true
      },
      "cell_type": "code",
      "source": "features=aw_custs['CountryRegionName']\nenc=preprocessing.LabelEncoder()\nenc.fit(features)\nfeatures=enc.transform(features)\nohe=preprocessing.OneHotEncoder()\nencoded=ohe.fit(features.reshape(-1,1))\nfeatures = encoded.transform(features.reshape(-1,1)).toarray()\nprint(features.shape)",
      "execution_count": null,
      "outputs": []
    },
    {
      "metadata": {
        "trusted": true
      },
      "cell_type": "code",
      "source": "#features=np.array(aw_custs['HomeOwnerFlag'])\n#features=features.reshape(-1,1)\nfeatures=np.array(aw_custs['YearlyIncome'])\nfeatures=features.reshape(-1,1)\nscaler = preprocessing.StandardScaler().fit(features)\nfeatures=scaler.transform(features)\nprint(features)",
      "execution_count": null,
      "outputs": []
    },
    {
      "metadata": {
        "trusted": true
      },
      "cell_type": "code",
      "source": "def encode_string(feature):\n    enc=preprocessing.LabelEncoder()\n    enc.fit(feature)\n    enc_feature=enc.transform(feature)\n    ohe=preprocessing.OneHotEncoder()\n    encoded=ohe.fit(enc_feature.reshape(-1,1))\n    return encoded.transform(enc_feature.reshape(-1,1)).toarray()\ncolumns=['Education',\n 'Occupation',\n 'Gender',\n 'MaritalStatus',]\nfor col in columns:\n    temp=encode_string(aw_custs[col])\n    features=np.concatenate([features,temp],axis=1)\nprint(features.shape)",
      "execution_count": null,
      "outputs": []
    },
    {
      "metadata": {
        "trusted": true,
        "scrolled": true
      },
      "cell_type": "code",
      "source": "features=np.concatenate([features,np.array(aw_custs[['HomeOwnerFlag','NumberCarsOwned','NumberChildrenAtHome', 'TotalChildren', 'YearlyIncome']])],axis=1)\nfeatures.shape",
      "execution_count": null,
      "outputs": []
    },
    {
      "metadata": {},
      "cell_type": "markdown",
      "source": "create regression model"
    },
    {
      "metadata": {
        "trusted": true
      },
      "cell_type": "code",
      "source": "nr.seed(123)\nlabels=np.array(aw_aveMonth['AveMonthSpend'])\nindex=range(features.shape[0])\nindex=ms.train_test_split(index,test_size=3000)\nx_train=features[index[0],:]\ny_train=np.ravel(labels[index[0]])\nx_test=features[index[1],:]\ny_test=np.ravel(labels[index[1]])",
      "execution_count": null,
      "outputs": []
    },
    {
      "metadata": {
        "trusted": true
      },
      "cell_type": "code",
      "source": "scaler = preprocessing.StandardScaler().fit(x_train[:,-1:])\nx_train[:,-1:]=scaler.transform(x_train[:,-1:])\nx_test[:,-1:]=scaler.transform(x_test[:,-1:])\nprint(x_train.shape)\nx_train[:5,:]",
      "execution_count": null,
      "outputs": []
    },
    {
      "metadata": {
        "trusted": true
      },
      "cell_type": "code",
      "source": "lin_mod=linear_model.LinearRegression(fit_intercept=False)\nlin_mod.fit(x_train,y_train)",
      "execution_count": null,
      "outputs": []
    },
    {
      "metadata": {
        "trusted": true
      },
      "cell_type": "code",
      "source": "print(lin_mod.intercept_)\nprint(lin_mod.coef_)",
      "execution_count": null,
      "outputs": []
    },
    {
      "metadata": {},
      "cell_type": "markdown",
      "source": "test the model"
    },
    {
      "metadata": {
        "trusted": true
      },
      "cell_type": "code",
      "source": "lin_mod.score(x_test,y_test)",
      "execution_count": null,
      "outputs": []
    },
    {
      "metadata": {
        "trusted": true
      },
      "cell_type": "code",
      "source": "predict_x=pd.read_csv('AW_test.csv')",
      "execution_count": null,
      "outputs": []
    },
    {
      "metadata": {
        "trusted": true
      },
      "cell_type": "code",
      "source": "new_features=predict_x['CountryRegionName']\nenc=preprocessing.LabelEncoder()\nenc.fit(new_features)\nnew_features=enc.transform(new_features)\nohe=preprocessing.OneHotEncoder()\nencoded=ohe.fit(new_features.reshape(-1,1))\nnew_features = encoded.transform(new_features.reshape(-1,1)).toarray()",
      "execution_count": null,
      "outputs": []
    },
    {
      "metadata": {
        "trusted": true
      },
      "cell_type": "code",
      "source": "def encode_string(feature):\n    enc=preprocessing.LabelEncoder()\n    enc.fit(feature)\n    enc_feature=enc.transform(feature)\n    ohe=preprocessing.OneHotEncoder()\n    encoded=ohe.fit(enc_feature.reshape(-1,1))\n    return encoded.transform(enc_feature.reshape(-1,1)).toarray()\ncolumns=['Education',\n 'Occupation',\n 'Gender',\n 'MaritalStatus',]\nfor col in columns:\n    temp=encode_string(predict_x[col])\n    new_features=np.concatenate([new_features,temp],axis=1)\nprint(new_features.shape)",
      "execution_count": null,
      "outputs": []
    },
    {
      "metadata": {
        "trusted": true
      },
      "cell_type": "code",
      "source": "new_features=np.concatenate([new_features,np.array(predict_x[['HomeOwnerFlag','NumberCarsOwned','NumberChildrenAtHome', 'TotalChildren', 'YearlyIncome']])],axis=1)\nnew_features.shape",
      "execution_count": null,
      "outputs": []
    },
    {
      "metadata": {
        "trusted": true
      },
      "cell_type": "code",
      "source": "scaler = preprocessing.StandardScaler().fit(new_features[:,-1:])\nnew_features[:,-1:]=scaler.transform(new_features[:,-1:])\nprint(new_features.shape)\nnew_features",
      "execution_count": null,
      "outputs": []
    },
    {
      "metadata": {
        "trusted": true
      },
      "cell_type": "code",
      "source": "predict_y=lin_mod.predict(new_features)",
      "execution_count": null,
      "outputs": []
    },
    {
      "metadata": {
        "trusted": true
      },
      "cell_type": "code",
      "source": "prediction=pd.DataFrame(predict_y,columns=['prediction']).to_csv('prediction.csv')",
      "execution_count": null,
      "outputs": []
    },
    {
      "metadata": {
        "trusted": true
      },
      "cell_type": "code",
      "source": "",
      "execution_count": null,
      "outputs": []
    }
  ],
  "metadata": {
    "kernelspec": {
      "name": "python36",
      "display_name": "Python 3.6",
      "language": "python"
    },
    "language_info": {
      "mimetype": "text/x-python",
      "nbconvert_exporter": "python",
      "name": "python",
      "pygments_lexer": "ipython3",
      "version": "3.6.6",
      "file_extension": ".py",
      "codemirror_mode": {
        "version": 3,
        "name": "ipython"
      }
    }
  },
  "nbformat": 4,
  "nbformat_minor": 2
}