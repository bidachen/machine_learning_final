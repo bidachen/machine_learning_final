{
  "cells": [
    {
      "metadata": {
        "collapsed": true
      },
      "cell_type": "markdown",
      "source": "Load the python packages"
    },
    {
      "metadata": {
        "trusted": true
      },
      "cell_type": "code",
      "source": "import pandas as pd\nfrom sklearn import preprocessing\nimport sklearn.model_selection as ms\nfrom sklearn import linear_model\nfrom sklearn import svm\nfrom sklearn.ensemble import RandomForestRegressor\nfrom sklearn.ensemble import AdaBoostRegressor\nfrom sklearn.neural_network import MLPRegressor\nimport numpy as np\nimport numpy.random as nr\nimport matplotlib.pyplot as plt\nimport math\n\n\n%matplotlib inline",
      "execution_count": 1,
      "outputs": []
    },
    {
      "metadata": {},
      "cell_type": "markdown",
      "source": "load three datasets"
    },
    {
      "metadata": {
        "trusted": true
      },
      "cell_type": "code",
      "source": "aw_custs = pd.read_csv('AdvWorksCusts.csv')\naw_aveMonth = pd.read_csv('AW_AveMonthSpend.csv')\naw_bike=pd.read_csv('AW_BikeBuyer.csv')",
      "execution_count": 2,
      "outputs": []
    },
    {
      "metadata": {
        "trusted": true
      },
      "cell_type": "code",
      "source": "aw_custs.dtypes\naw_custs.head().T\naw_custs.describe()",
      "execution_count": 3,
      "outputs": [
        {
          "output_type": "execute_result",
          "execution_count": 3,
          "data": {
            "text/html": "<div>\n<style scoped>\n    .dataframe tbody tr th:only-of-type {\n        vertical-align: middle;\n    }\n\n    .dataframe tbody tr th {\n        vertical-align: top;\n    }\n\n    .dataframe thead th {\n        text-align: right;\n    }\n</style>\n<table border=\"1\" class=\"dataframe\">\n  <thead>\n    <tr style=\"text-align: right;\">\n      <th></th>\n      <th>CustomerID</th>\n      <th>HomeOwnerFlag</th>\n      <th>NumberCarsOwned</th>\n      <th>NumberChildrenAtHome</th>\n      <th>TotalChildren</th>\n      <th>YearlyIncome</th>\n    </tr>\n  </thead>\n  <tbody>\n    <tr>\n      <th>count</th>\n      <td>16519.000000</td>\n      <td>16519.000000</td>\n      <td>16519.000000</td>\n      <td>16519.000000</td>\n      <td>16519.000000</td>\n      <td>16519.000000</td>\n    </tr>\n    <tr>\n      <th>mean</th>\n      <td>20234.225195</td>\n      <td>0.673891</td>\n      <td>1.500999</td>\n      <td>0.992009</td>\n      <td>2.006235</td>\n      <td>78122.511532</td>\n    </tr>\n    <tr>\n      <th>std</th>\n      <td>5342.515987</td>\n      <td>0.468802</td>\n      <td>1.138962</td>\n      <td>1.515048</td>\n      <td>1.682736</td>\n      <td>39710.985718</td>\n    </tr>\n    <tr>\n      <th>min</th>\n      <td>11000.000000</td>\n      <td>0.000000</td>\n      <td>0.000000</td>\n      <td>0.000000</td>\n      <td>0.000000</td>\n      <td>9482.000000</td>\n    </tr>\n    <tr>\n      <th>25%</th>\n      <td>15604.500000</td>\n      <td>0.000000</td>\n      <td>1.000000</td>\n      <td>0.000000</td>\n      <td>0.000000</td>\n      <td>47807.500000</td>\n    </tr>\n    <tr>\n      <th>50%</th>\n      <td>20221.000000</td>\n      <td>1.000000</td>\n      <td>2.000000</td>\n      <td>0.000000</td>\n      <td>2.000000</td>\n      <td>76120.000000</td>\n    </tr>\n    <tr>\n      <th>75%</th>\n      <td>24860.500000</td>\n      <td>1.000000</td>\n      <td>2.000000</td>\n      <td>2.000000</td>\n      <td>3.000000</td>\n      <td>105194.500000</td>\n    </tr>\n    <tr>\n      <th>max</th>\n      <td>29482.000000</td>\n      <td>1.000000</td>\n      <td>4.000000</td>\n      <td>5.000000</td>\n      <td>5.000000</td>\n      <td>196511.000000</td>\n    </tr>\n  </tbody>\n</table>\n</div>",
            "text/plain": "         CustomerID  HomeOwnerFlag  NumberCarsOwned  NumberChildrenAtHome  \\\ncount  16519.000000   16519.000000     16519.000000          16519.000000   \nmean   20234.225195       0.673891         1.500999              0.992009   \nstd     5342.515987       0.468802         1.138962              1.515048   \nmin    11000.000000       0.000000         0.000000              0.000000   \n25%    15604.500000       0.000000         1.000000              0.000000   \n50%    20221.000000       1.000000         2.000000              0.000000   \n75%    24860.500000       1.000000         2.000000              2.000000   \nmax    29482.000000       1.000000         4.000000              5.000000   \n\n       TotalChildren   YearlyIncome  \ncount   16519.000000   16519.000000  \nmean        2.006235   78122.511532  \nstd         1.682736   39710.985718  \nmin         0.000000    9482.000000  \n25%         0.000000   47807.500000  \n50%         2.000000   76120.000000  \n75%         3.000000  105194.500000  \nmax         5.000000  196511.000000  "
          },
          "metadata": {}
        }
      ]
    },
    {
      "metadata": {
        "trusted": true
      },
      "cell_type": "code",
      "source": "age=[]\nfor x in aw_custs.BirthDate:\n    age.append(1998-int(x[:4]))\naw_custs['Age']=age\naw_custs.head().T",
      "execution_count": 4,
      "outputs": [
        {
          "output_type": "execute_result",
          "execution_count": 4,
          "data": {
            "text/html": "<div>\n<style scoped>\n    .dataframe tbody tr th:only-of-type {\n        vertical-align: middle;\n    }\n\n    .dataframe tbody tr th {\n        vertical-align: top;\n    }\n\n    .dataframe thead th {\n        text-align: right;\n    }\n</style>\n<table border=\"1\" class=\"dataframe\">\n  <thead>\n    <tr style=\"text-align: right;\">\n      <th></th>\n      <th>0</th>\n      <th>1</th>\n      <th>2</th>\n      <th>3</th>\n      <th>4</th>\n    </tr>\n  </thead>\n  <tbody>\n    <tr>\n      <th>CustomerID</th>\n      <td>11000</td>\n      <td>11001</td>\n      <td>11002</td>\n      <td>11003</td>\n      <td>11004</td>\n    </tr>\n    <tr>\n      <th>Title</th>\n      <td>NaN</td>\n      <td>NaN</td>\n      <td>NaN</td>\n      <td>NaN</td>\n      <td>NaN</td>\n    </tr>\n    <tr>\n      <th>FirstName</th>\n      <td>Jon</td>\n      <td>Eugene</td>\n      <td>Ruben</td>\n      <td>Christy</td>\n      <td>Elizabeth</td>\n    </tr>\n    <tr>\n      <th>MiddleName</th>\n      <td>V</td>\n      <td>L</td>\n      <td>NaN</td>\n      <td>NaN</td>\n      <td>NaN</td>\n    </tr>\n    <tr>\n      <th>LastName</th>\n      <td>Yang</td>\n      <td>Huang</td>\n      <td>Torres</td>\n      <td>Zhu</td>\n      <td>Johnson</td>\n    </tr>\n    <tr>\n      <th>Suffix</th>\n      <td>NaN</td>\n      <td>NaN</td>\n      <td>NaN</td>\n      <td>NaN</td>\n      <td>NaN</td>\n    </tr>\n    <tr>\n      <th>AddressLine1</th>\n      <td>3761 N. 14th St</td>\n      <td>2243 W St.</td>\n      <td>5844 Linden Land</td>\n      <td>1825 Village Pl.</td>\n      <td>7553 Harness Circle</td>\n    </tr>\n    <tr>\n      <th>AddressLine2</th>\n      <td>NaN</td>\n      <td>NaN</td>\n      <td>NaN</td>\n      <td>NaN</td>\n      <td>NaN</td>\n    </tr>\n    <tr>\n      <th>City</th>\n      <td>Rockhampton</td>\n      <td>Seaford</td>\n      <td>Hobart</td>\n      <td>North Ryde</td>\n      <td>Wollongong</td>\n    </tr>\n    <tr>\n      <th>StateProvinceName</th>\n      <td>Queensland</td>\n      <td>Victoria</td>\n      <td>Tasmania</td>\n      <td>New South Wales</td>\n      <td>New South Wales</td>\n    </tr>\n    <tr>\n      <th>CountryRegionName</th>\n      <td>Australia</td>\n      <td>Australia</td>\n      <td>Australia</td>\n      <td>Australia</td>\n      <td>Australia</td>\n    </tr>\n    <tr>\n      <th>PostalCode</th>\n      <td>4700</td>\n      <td>3198</td>\n      <td>7001</td>\n      <td>2113</td>\n      <td>2500</td>\n    </tr>\n    <tr>\n      <th>PhoneNumber</th>\n      <td>1 (11) 500 555-0162</td>\n      <td>1 (11) 500 555-0110</td>\n      <td>1 (11) 500 555-0184</td>\n      <td>1 (11) 500 555-0162</td>\n      <td>1 (11) 500 555-0131</td>\n    </tr>\n    <tr>\n      <th>BirthDate</th>\n      <td>1966-04-08</td>\n      <td>1965-05-14</td>\n      <td>1965-08-12</td>\n      <td>1968-02-15</td>\n      <td>1968-08-08</td>\n    </tr>\n    <tr>\n      <th>Education</th>\n      <td>Bachelors</td>\n      <td>Bachelors</td>\n      <td>Bachelors</td>\n      <td>Bachelors</td>\n      <td>Bachelors</td>\n    </tr>\n    <tr>\n      <th>Occupation</th>\n      <td>Professional</td>\n      <td>Professional</td>\n      <td>Professional</td>\n      <td>Professional</td>\n      <td>Professional</td>\n    </tr>\n    <tr>\n      <th>Gender</th>\n      <td>M</td>\n      <td>M</td>\n      <td>M</td>\n      <td>F</td>\n      <td>F</td>\n    </tr>\n    <tr>\n      <th>MaritalStatus</th>\n      <td>M</td>\n      <td>S</td>\n      <td>M</td>\n      <td>S</td>\n      <td>S</td>\n    </tr>\n    <tr>\n      <th>HomeOwnerFlag</th>\n      <td>1</td>\n      <td>0</td>\n      <td>1</td>\n      <td>0</td>\n      <td>1</td>\n    </tr>\n    <tr>\n      <th>NumberCarsOwned</th>\n      <td>0</td>\n      <td>1</td>\n      <td>1</td>\n      <td>1</td>\n      <td>4</td>\n    </tr>\n    <tr>\n      <th>NumberChildrenAtHome</th>\n      <td>0</td>\n      <td>3</td>\n      <td>3</td>\n      <td>0</td>\n      <td>5</td>\n    </tr>\n    <tr>\n      <th>TotalChildren</th>\n      <td>2</td>\n      <td>3</td>\n      <td>3</td>\n      <td>0</td>\n      <td>5</td>\n    </tr>\n    <tr>\n      <th>YearlyIncome</th>\n      <td>137947</td>\n      <td>101141</td>\n      <td>91945</td>\n      <td>86688</td>\n      <td>92771</td>\n    </tr>\n    <tr>\n      <th>Age</th>\n      <td>32</td>\n      <td>33</td>\n      <td>33</td>\n      <td>30</td>\n      <td>30</td>\n    </tr>\n  </tbody>\n</table>\n</div>",
            "text/plain": "                                        0                    1  \\\nCustomerID                          11000                11001   \nTitle                                 NaN                  NaN   \nFirstName                             Jon               Eugene   \nMiddleName                              V                    L   \nLastName                             Yang                Huang   \nSuffix                                NaN                  NaN   \nAddressLine1              3761 N. 14th St           2243 W St.   \nAddressLine2                          NaN                  NaN   \nCity                          Rockhampton              Seaford   \nStateProvinceName              Queensland             Victoria   \nCountryRegionName               Australia            Australia   \nPostalCode                           4700                 3198   \nPhoneNumber           1 (11) 500 555-0162  1 (11) 500 555-0110   \nBirthDate                      1966-04-08           1965-05-14   \nEducation                      Bachelors            Bachelors    \nOccupation                   Professional         Professional   \nGender                                  M                    M   \nMaritalStatus                           M                    S   \nHomeOwnerFlag                           1                    0   \nNumberCarsOwned                         0                    1   \nNumberChildrenAtHome                    0                    3   \nTotalChildren                           2                    3   \nYearlyIncome                       137947               101141   \nAge                                    32                   33   \n\n                                        2                    3  \\\nCustomerID                          11002                11003   \nTitle                                 NaN                  NaN   \nFirstName                           Ruben              Christy   \nMiddleName                            NaN                  NaN   \nLastName                           Torres                  Zhu   \nSuffix                                NaN                  NaN   \nAddressLine1             5844 Linden Land     1825 Village Pl.   \nAddressLine2                          NaN                  NaN   \nCity                               Hobart           North Ryde   \nStateProvinceName                Tasmania      New South Wales   \nCountryRegionName               Australia            Australia   \nPostalCode                           7001                 2113   \nPhoneNumber           1 (11) 500 555-0184  1 (11) 500 555-0162   \nBirthDate                      1965-08-12           1968-02-15   \nEducation                      Bachelors            Bachelors    \nOccupation                   Professional         Professional   \nGender                                  M                    F   \nMaritalStatus                           M                    S   \nHomeOwnerFlag                           1                    0   \nNumberCarsOwned                         1                    1   \nNumberChildrenAtHome                    3                    0   \nTotalChildren                           3                    0   \nYearlyIncome                        91945                86688   \nAge                                    33                   30   \n\n                                        4  \nCustomerID                          11004  \nTitle                                 NaN  \nFirstName                       Elizabeth  \nMiddleName                            NaN  \nLastName                          Johnson  \nSuffix                                NaN  \nAddressLine1          7553 Harness Circle  \nAddressLine2                          NaN  \nCity                           Wollongong  \nStateProvinceName         New South Wales  \nCountryRegionName               Australia  \nPostalCode                           2500  \nPhoneNumber           1 (11) 500 555-0131  \nBirthDate                      1968-08-08  \nEducation                      Bachelors   \nOccupation                   Professional  \nGender                                  F  \nMaritalStatus                           S  \nHomeOwnerFlag                           1  \nNumberCarsOwned                         4  \nNumberChildrenAtHome                    5  \nTotalChildren                           5  \nYearlyIncome                        92771  \nAge                                    30  "
          },
          "metadata": {}
        }
      ]
    },
    {
      "metadata": {},
      "cell_type": "markdown",
      "source": "check the number of NAN in each column"
    },
    {
      "metadata": {
        "trusted": true
      },
      "cell_type": "code",
      "source": "for col in aw_custs.columns:\n    if aw_custs[col].dtype == object:\n        count = 0\n        count = [count + 1 for x in aw_custs[col] if pd.notna(x)]\n        print(col + ' ' + str(sum(count)))",
      "execution_count": 5,
      "outputs": [
        {
          "output_type": "stream",
          "text": "Title 88\nFirstName 16519\nMiddleName 9534\nLastName 16519\nSuffix 2\nAddressLine1 16519\nAddressLine2 276\nCity 16519\nStateProvinceName 16519\nCountryRegionName 16519\nPostalCode 16519\nPhoneNumber 16519\nBirthDate 16519\nEducation 16519\nOccupation 16519\nGender 16519\nMaritalStatus 16519\n",
          "name": "stdout"
        }
      ]
    },
    {
      "metadata": {
        "trusted": true
      },
      "cell_type": "markdown",
      "source": "drop the colomn which has too many NAN"
    },
    {
      "metadata": {
        "trusted": true
      },
      "cell_type": "code",
      "source": "aw_custs = aw_custs.drop(['Title','Suffix','AddressLine2'], axis=1)",
      "execution_count": 6,
      "outputs": []
    },
    {
      "metadata": {},
      "cell_type": "markdown",
      "source": "combine first name and middle name"
    },
    {
      "metadata": {
        "trusted": true
      },
      "cell_type": "code",
      "source": "def combineName():\n    result=[]\n    for f, m in zip(aw_custs['FirstName'], aw_custs['MiddleName']):\n        if pd.notna(m):\n            result.append(f+'.'+m)\n        else:\n            result.append(f)\n    return result\n    \naw_custs['FirstName'] = combineName()",
      "execution_count": 7,
      "outputs": []
    },
    {
      "metadata": {
        "trusted": true
      },
      "cell_type": "code",
      "source": "aw_custs = aw_custs.drop(['MiddleName'],axis=1)",
      "execution_count": 8,
      "outputs": []
    },
    {
      "metadata": {
        "trusted": true
      },
      "cell_type": "code",
      "source": "aw_custs.CustomerID.unique().shape\naw_custs.shape\naw_custs.dtypes",
      "execution_count": 9,
      "outputs": [
        {
          "output_type": "execute_result",
          "execution_count": 9,
          "data": {
            "text/plain": "CustomerID               int64\nFirstName               object\nLastName                object\nAddressLine1            object\nCity                    object\nStateProvinceName       object\nCountryRegionName       object\nPostalCode              object\nPhoneNumber             object\nBirthDate               object\nEducation               object\nOccupation              object\nGender                  object\nMaritalStatus           object\nHomeOwnerFlag            int64\nNumberCarsOwned          int64\nNumberChildrenAtHome     int64\nTotalChildren            int64\nYearlyIncome             int64\nAge                      int64\ndtype: object"
          },
          "metadata": {}
        }
      ]
    },
    {
      "metadata": {
        "trusted": true
      },
      "cell_type": "code",
      "source": "aw_aveMonth.CustomerID.unique().shape\naw_aveMonth.shape\naw_aveMonth.dtypes",
      "execution_count": 10,
      "outputs": [
        {
          "output_type": "execute_result",
          "execution_count": 10,
          "data": {
            "text/plain": "CustomerID       int64\nAveMonthSpend    int64\ndtype: object"
          },
          "metadata": {}
        }
      ]
    },
    {
      "metadata": {
        "trusted": true
      },
      "cell_type": "code",
      "source": "print(aw_bike.CustomerID.unique().shape)\naw_bike.shape",
      "execution_count": 11,
      "outputs": [
        {
          "output_type": "stream",
          "text": "(16404,)\n",
          "name": "stdout"
        },
        {
          "output_type": "execute_result",
          "execution_count": 11,
          "data": {
            "text/plain": "(16519, 2)"
          },
          "metadata": {}
        }
      ]
    },
    {
      "metadata": {},
      "cell_type": "markdown",
      "source": "remove rows of duplicate customer id, since id is unique. keep the latest one"
    },
    {
      "metadata": {
        "trusted": true
      },
      "cell_type": "code",
      "source": "aw_custs.drop_duplicates(subset='CustomerID', keep='last', inplace=True)\naw_aveMonth.drop_duplicates(subset='CustomerID', keep='last', inplace=True)\naw_bike.drop_duplicates(subset='CustomerID', keep='last', inplace=True)",
      "execution_count": 12,
      "outputs": []
    },
    {
      "metadata": {
        "trusted": true
      },
      "cell_type": "code",
      "source": "for col in aw_aveMonth.columns:\n    if aw_aveMonth[col].dtype == np.int64:\n        count = 0\n        count = [count + 1 for x in aw_aveMonth[col] if x<0]\n        print(col + ' ' + str(sum(count)))",
      "execution_count": 13,
      "outputs": [
        {
          "output_type": "stream",
          "text": "CustomerID 0\nAveMonthSpend 0\n",
          "name": "stdout"
        }
      ]
    },
    {
      "metadata": {
        "trusted": true
      },
      "cell_type": "code",
      "source": "for col in aw_bike.columns:\n    if aw_bike[col].dtype == np.int64:\n        count = 0\n        count = [count + 1 for x in aw_bike[col] if x>1]\n        print(col + ' ' + str(sum(count)))",
      "execution_count": 14,
      "outputs": [
        {
          "output_type": "stream",
          "text": "CustomerID 16404\nBikeBuyer 0\n",
          "name": "stdout"
        }
      ]
    },
    {
      "metadata": {},
      "cell_type": "markdown",
      "source": "colomns will be used as features"
    },
    {
      "metadata": {
        "trusted": true
      },
      "cell_type": "code",
      "source": "def count_unique(aw_custs,cols):\n    for col in cols:\n        print('\\n' + 'For column ' + col)\n        print(aw_custs[col].value_counts())\ncols=[*aw_custs.columns[6:7],*aw_custs.columns[10:]]\ncols\n#count_unique(aw_custs,cols)",
      "execution_count": 15,
      "outputs": [
        {
          "output_type": "execute_result",
          "execution_count": 15,
          "data": {
            "text/plain": "['CountryRegionName',\n 'Education',\n 'Occupation',\n 'Gender',\n 'MaritalStatus',\n 'HomeOwnerFlag',\n 'NumberCarsOwned',\n 'NumberChildrenAtHome',\n 'TotalChildren',\n 'YearlyIncome',\n 'Age']"
          },
          "metadata": {}
        }
      ]
    },
    {
      "metadata": {},
      "cell_type": "markdown",
      "source": "visualize the features"
    },
    {
      "metadata": {
        "trusted": true
      },
      "cell_type": "code",
      "source": "def plot_bars(aw_custs,cols):\n    for col in cols:\n        fig=plt.figure(figsize=(6,6))\n        ax=fig.gca()\n        counts=aw_custs[col].value_counts()\n        counts.plot.bar(ax=ax,color='blue')\n        plt.show()\nplot_bars(aw_custs,cols)",
      "execution_count": 16,
      "outputs": [
        {
          "output_type": "display_data",
          "data": {
            "image/png": "[encoded data removed]",
            "text/plain": "<Figure size 432x432 with 1 Axes>"
          },
          "metadata": {
            "needs_background": "light"
          }
        },
        {
          "output_type": "display_data",
          "data": {
            "image/png": "[encoded data removed]",
            "text/plain": "<Figure size 432x432 with 1 Axes>"
          },
          "metadata": {
            "needs_background": "light"
          }
        },
        {
          "output_type": "display_data",
          "data": {
            "image/png": "[encoded data removed]",
            "text/plain": "<Figure size 432x432 with 1 Axes>"
          },
          "metadata": {
            "needs_background": "light"
          }
        },
        {
          "output_type": "display_data",
          "data": {
            "image/png": "[encoded data removed]",
            "text/plain": "<Figure size 432x432 with 1 Axes>"
          },
          "metadata": {
            "needs_background": "light"
          }
        },
        {
          "output_type": "display_data",
          "data": {
            "image/png": "[encoded data removed]",
            "text/plain": "<Figure size 432x432 with 1 Axes>"
          },
          "metadata": {
            "needs_background": "light"
          }
        },
        {
          "output_type": "display_data",
          "data": {
            "image/png": "[encoded data removed]",
            "text/plain": "<Figure size 432x432 with 1 Axes>"
          },
          "metadata": {
            "needs_background": "light"
          }
        },
        {
          "output_type": "display_data",
          "data": {
            "image/png": "[encoded data removed]",
            "text/plain": "<Figure size 432x432 with 1 Axes>"
          },
          "metadata": {
            "needs_background": "light"
          }
        },
        {
          "output_type": "display_data",
          "data": {
            "image/png": "[encoded data removed]",
            "text/plain": "<Figure size 432x432 with 1 Axes>"
          },
          "metadata": {
            "needs_background": "light"
          }
        },
        {
          "output_type": "display_data",
          "data": {
            "image/png": "[encoded data removed]",
            "text/plain": "<Figure size 432x432 with 1 Axes>"
          },
          "metadata": {
            "needs_background": "light"
          }
        },
        {
          "output_type": "display_data",
          "data": {
            "image/png": "[encoded data removed]",
            "text/plain": "<Figure size 432x432 with 1 Axes>"
          },
          "metadata": {
            "needs_background": "light"
          }
        },
        {
          "output_type": "display_data",
          "data": {
            "image/png": "[encoded data removed]",
            "text/plain": "<Figure size 432x432 with 1 Axes>"
          },
          "metadata": {
            "needs_background": "light"
          }
        }
      ]
    },
    {
      "metadata": {},
      "cell_type": "markdown",
      "source": "create dummy variable for those categorical features"
    },
    {
      "metadata": {
        "trusted": true
      },
      "cell_type": "code",
      "source": "features=aw_custs['CountryRegionName']\nenc=preprocessing.LabelEncoder()\nenc.fit(features)\nfeatures=enc.transform(features)\nohe=preprocessing.OneHotEncoder(categories='auto')\nencoded=ohe.fit(features.reshape(-1,1))\nfeatures = encoded.transform(features.reshape(-1,1)).toarray()\nprint(features.shape)",
      "execution_count": 17,
      "outputs": [
        {
          "output_type": "stream",
          "text": "(16404, 6)\n",
          "name": "stdout"
        }
      ]
    },
    {
      "metadata": {
        "trusted": true
      },
      "cell_type": "code",
      "source": "#features=np.array(aw_custs['HomeOwnerFlag'])\n#features=features.reshape(-1,1)\nfeatures=np.array(aw_custs['YearlyIncome'])\nfeatures=features.reshape(-1,1)\nscaler = preprocessing.StandardScaler().fit(features)\nfeatures=scaler.transform(features)\nprint(features)",
      "execution_count": 18,
      "outputs": [
        {
          "output_type": "stream",
          "text": "[[ 1.50570312]\n [ 0.57923396]\n [ 0.34775512]\n ...\n [ 1.38251288]\n [-1.16292375]\n [-0.47191056]]\n",
          "name": "stdout"
        },
        {
          "output_type": "stream",
          "text": "/home/nbuser/anaconda3_501/lib/python3.6/site-packages/sklearn/utils/validation.py:595: DataConversionWarning: Data with input dtype int64 was converted to float64 by StandardScaler.\n  warnings.warn(msg, DataConversionWarning)\n/home/nbuser/anaconda3_501/lib/python3.6/site-packages/sklearn/utils/validation.py:595: DataConversionWarning: Data with input dtype int64 was converted to float64 by StandardScaler.\n  warnings.warn(msg, DataConversionWarning)\n",
          "name": "stderr"
        }
      ]
    },
    {
      "metadata": {
        "trusted": true
      },
      "cell_type": "code",
      "source": "def encode_string(feature):\n    enc=preprocessing.LabelEncoder()\n    enc.fit(feature)\n    enc_feature=enc.transform(feature)\n    ohe=preprocessing.OneHotEncoder(categories='auto')\n    encoded=ohe.fit(enc_feature.reshape(-1,1))\n    return encoded.transform(enc_feature.reshape(-1,1)).toarray()\ncolumns=['Education',\n 'Occupation',\n 'Gender',\n 'MaritalStatus',]\nfor col in columns:\n    temp=encode_string(aw_custs[col])\n    features=np.concatenate([features,temp],axis=1)\nprint(features.shape)",
      "execution_count": 19,
      "outputs": [
        {
          "output_type": "stream",
          "text": "(16404, 15)\n",
          "name": "stdout"
        }
      ]
    },
    {
      "metadata": {
        "trusted": true,
        "scrolled": true
      },
      "cell_type": "code",
      "source": "features=np.concatenate([features,np.array(aw_custs[['HomeOwnerFlag','NumberCarsOwned','NumberChildrenAtHome', 'TotalChildren', 'YearlyIncome','Age']])],axis=1)\nfeatures.shape",
      "execution_count": 20,
      "outputs": [
        {
          "output_type": "execute_result",
          "execution_count": 20,
          "data": {
            "text/plain": "(16404, 21)"
          },
          "metadata": {}
        }
      ]
    },
    {
      "metadata": {},
      "cell_type": "markdown",
      "source": "create regression model"
    },
    {
      "metadata": {
        "trusted": true
      },
      "cell_type": "code",
      "source": "nr.seed(123)\nlabels=np.array(aw_aveMonth['AveMonthSpend'])\nindex=range(features.shape[0])\nindex=ms.train_test_split(index,test_size=0.3)\nx_train=features[index[0],:]\ny_train=np.ravel(labels[index[0]])\nx_test=features[index[1],:]\ny_test=np.ravel(labels[index[1]])",
      "execution_count": 21,
      "outputs": []
    },
    {
      "metadata": {
        "trusted": true
      },
      "cell_type": "code",
      "source": "scaler = preprocessing.StandardScaler().fit(x_train[:,-6:])\nx_train[:,-6:]=scaler.transform(x_train[:,-6:])\nx_test[:,-6:]=scaler.transform(x_test[:,-6:])\nprint(x_train.shape)\nx_train[:5,:]",
      "execution_count": 22,
      "outputs": [
        {
          "output_type": "stream",
          "text": "(11482, 21)\n",
          "name": "stdout"
        },
        {
          "output_type": "execute_result",
          "execution_count": 22,
          "data": {
            "text/plain": "array([[-0.45630412,  0.        ,  0.        ,  0.        ,  1.        ,\n         0.        ,  0.        ,  0.        ,  0.        ,  0.        ,\n         1.        ,  1.        ,  0.        ,  1.        ,  0.        ,\n         0.69366141, -0.43707444, -0.65575709, -0.59596293, -0.45811398,\n         0.14349164],\n       [ 0.25091963,  1.        ,  0.        ,  0.        ,  0.        ,\n         0.        ,  0.        ,  0.        ,  0.        ,  1.        ,\n         0.        ,  1.        ,  0.        ,  1.        ,  0.        ,\n         0.69366141, -1.31366636,  1.32219465,  1.18804152,  0.24991032,\n         0.23265557],\n       [ 2.43710593,  0.        ,  1.        ,  0.        ,  0.        ,\n         0.        ,  0.        ,  1.        ,  0.        ,  0.        ,\n         0.        ,  0.        ,  1.        ,  1.        ,  0.        ,\n         0.69366141,  2.19270132,  0.00356015, -0.59596293,  2.43857129,\n        -0.39149192],\n       [-0.93182248,  0.        ,  0.        ,  1.        ,  0.        ,\n         0.        ,  0.        ,  0.        ,  0.        ,  0.        ,\n         1.        ,  0.        ,  1.        ,  1.        ,  0.        ,\n         0.69366141,  0.43951748, -0.65575709,  1.18804152, -0.93417061,\n         1.57011448],\n       [ 1.13877542,  1.        ,  0.        ,  0.        ,  0.        ,\n         0.        ,  0.        ,  0.        ,  0.        ,  1.        ,\n         0.        ,  1.        ,  0.        ,  0.        ,  1.        ,\n        -1.44162553,  1.3161094 , -0.65575709, -1.19063108,  1.13877112,\n        -0.83731155]])"
          },
          "metadata": {}
        }
      ]
    },
    {
      "metadata": {
        "trusted": true
      },
      "cell_type": "code",
      "source": "lin_mod=linear_model.LinearRegression(fit_intercept=False)\nlin_mod.fit(x_train,y_train)",
      "execution_count": 23,
      "outputs": [
        {
          "output_type": "execute_result",
          "execution_count": 23,
          "data": {
            "text/plain": "LinearRegression(copy_X=True, fit_intercept=False, n_jobs=None,\n         normalize=False)"
          },
          "metadata": {}
        }
      ]
    },
    {
      "metadata": {
        "trusted": true
      },
      "cell_type": "code",
      "source": "print(lin_mod.intercept_)\nprint(lin_mod.coef_)",
      "execution_count": 24,
      "outputs": [
        {
          "output_type": "stream",
          "text": "0.0\n[ 4.33699054 10.72881424  8.69519058 10.6767256  10.71586175 10.55282692\n 11.00299758  8.16165691 10.38745865 10.88368825 10.93361769 11.6528339\n 39.71658519 28.783169   22.58625009  0.06920077 -0.45106818 16.44986138\n  0.55821899  4.27546128 -1.48630375]\n",
          "name": "stdout"
        }
      ]
    },
    {
      "metadata": {},
      "cell_type": "markdown",
      "source": "test the model"
    },
    {
      "metadata": {
        "trusted": true
      },
      "cell_type": "code",
      "source": "lin_mod.score(x_test,y_test)",
      "execution_count": 25,
      "outputs": [
        {
          "output_type": "execute_result",
          "execution_count": 25,
          "data": {
            "text/plain": "0.9455674656122705"
          },
          "metadata": {}
        }
      ]
    },
    {
      "metadata": {
        "trusted": true
      },
      "cell_type": "code",
      "source": "predict_x=pd.read_csv('AW_test.csv')",
      "execution_count": 30,
      "outputs": []
    },
    {
      "metadata": {
        "trusted": true
      },
      "cell_type": "code",
      "source": "new_features=predict_x['CountryRegionName']\nenc=preprocessing.LabelEncoder()\nenc.fit(new_features)\nnew_features=enc.transform(new_features)\nohe=preprocessing.OneHotEncoder(categories='auto')\nencoded=ohe.fit(new_features.reshape(-1,1))\nnew_features = encoded.transform(new_features.reshape(-1,1)).toarray()",
      "execution_count": null,
      "outputs": []
    },
    {
      "metadata": {
        "trusted": true
      },
      "cell_type": "code",
      "source": "def encode_string(feature):\n    enc=preprocessing.LabelEncoder()\n    enc.fit(feature)\n    enc_feature=enc.transform(feature)\n    ohe=preprocessing.OneHotEncoder(categories='auto')\n    encoded=ohe.fit(enc_feature.reshape(-1,1))\n    return encoded.transform(enc_feature.reshape(-1,1)).toarray()\ncolumns=['Education',\n 'Occupation',\n 'Gender',\n 'MaritalStatus',]\nfor col in columns:\n    temp=encode_string(predict_x[col])\n    new_features=np.concatenate([new_features,temp],axis=1)\nprint(new_features.shape)",
      "execution_count": null,
      "outputs": []
    },
    {
      "metadata": {
        "trusted": true
      },
      "cell_type": "code",
      "source": "new_features=np.concatenate([new_features,np.array(predict_x[['HomeOwnerFlag','NumberCarsOwned','NumberChildrenAtHome', 'TotalChildren', 'YearlyIncome']])],axis=1)\nnew_features.shape",
      "execution_count": null,
      "outputs": []
    },
    {
      "metadata": {
        "trusted": true
      },
      "cell_type": "code",
      "source": "scaler = preprocessing.StandardScaler().fit(new_features[:,-1:])\nnew_features[:,-1:]=scaler.transform(new_features[:,-1:])\nprint(new_features.shape)\nnew_features",
      "execution_count": null,
      "outputs": []
    },
    {
      "metadata": {
        "trusted": true
      },
      "cell_type": "code",
      "source": "predict_y=lin_mod.predict(new_features)",
      "execution_count": null,
      "outputs": []
    },
    {
      "metadata": {
        "trusted": true
      },
      "cell_type": "code",
      "source": "prediction=pd.DataFrame(predict_y,columns=['prediction']).to_csv('prediction.csv')",
      "execution_count": null,
      "outputs": []
    },
    {
      "metadata": {},
      "cell_type": "markdown",
      "source": "RandomForest Model"
    },
    {
      "metadata": {
        "trusted": true
      },
      "cell_type": "code",
      "source": "nr.seed(1234)\nrf_reg = RandomForestRegressor()\nrf_reg.fit(x_train, y_train)",
      "execution_count": null,
      "outputs": []
    },
    {
      "metadata": {
        "trusted": true
      },
      "cell_type": "code",
      "source": "rf_reg.score(x_test, y_test)",
      "execution_count": null,
      "outputs": []
    },
    {
      "metadata": {
        "trusted": true
      },
      "cell_type": "code",
      "source": "nr.seed(123)\ninside =ms.KFold(n_splits=10,shuffle=True)\nnr.seed(234)\noutside=ms.KFold(n_splits=19,shuffle=True)",
      "execution_count": null,
      "outputs": []
    },
    {
      "metadata": {
        "trusted": true
      },
      "cell_type": "code",
      "source": "param_grid={\"max_features\": [2, 3, 5, 10, 15], \"min_samples_leaf\":[3, 5, 10, 20]}\nnr.seed(456)\nrf_reg=RandomForestRegressor()\nnr.seed(1212)\nrf_reg=ms.GridSearchCV(estimator=rf_reg,param_grid=param_grid, cv=inside, scoring=\"roc_auc\", return_train_score=True)\nrf_reg.fit(x_train, y_train)\nprint(rf_reg.best_estimator.max_features)\nprint(rf_clf.best_estimator_.min_samples_leaf)",
      "execution_count": null,
      "outputs": []
    },
    {
      "metadata": {},
      "cell_type": "markdown",
      "source": "AdaBoost Model"
    },
    {
      "metadata": {
        "trusted": true
      },
      "cell_type": "code",
      "source": "nr.seed(111)\nab_reg=AdaBoostRegressor()\nab_reg.fit(x_train, y_train)",
      "execution_count": null,
      "outputs": []
    },
    {
      "metadata": {
        "trusted": true
      },
      "cell_type": "code",
      "source": "ab_reg.score(x_test,y_test)",
      "execution_count": null,
      "outputs": []
    },
    {
      "metadata": {},
      "cell_type": "markdown",
      "source": "Neural Networks"
    },
    {
      "metadata": {
        "trusted": true
      },
      "cell_type": "code",
      "source": "nr.seed(222)\nnn_reg=MLPRegressor()\nnn_reg.fit(x_train,y_train)",
      "execution_count": null,
      "outputs": []
    },
    {
      "metadata": {
        "trusted": true
      },
      "cell_type": "code",
      "source": "nn_reg.score(x_test,y_test)",
      "execution_count": null,
      "outputs": []
    },
    {
      "metadata": {},
      "cell_type": "markdown",
      "source": "Support Vector Machine Model"
    },
    {
      "metadata": {
        "trusted": true
      },
      "cell_type": "code",
      "source": "nr.seed(333)\nsvm_reg=svm.LinearSVR()\nsvm_reg.fit(x_train, y_train)",
      "execution_count": null,
      "outputs": []
    },
    {
      "metadata": {
        "trusted": true
      },
      "cell_type": "code",
      "source": "svm_reg.score(x_test, y_test)",
      "execution_count": null,
      "outputs": []
    },
    {
      "metadata": {
        "trusted": true
      },
      "cell_type": "code",
      "source": "nr.seed(555)\nsvm_reg=svm.SVR()\nsvm_reg.fit(x_train, y_train)",
      "execution_count": null,
      "outputs": []
    },
    {
      "metadata": {
        "trusted": true
      },
      "cell_type": "code",
      "source": "svm_reg.score(x_test, y_test)",
      "execution_count": null,
      "outputs": []
    },
    {
      "metadata": {
        "trusted": true
      },
      "cell_type": "code",
      "source": "",
      "execution_count": null,
      "outputs": []
    }
  ],
  "metadata": {
    "kernelspec": {
      "name": "python36",
      "display_name": "Python 3.6",
      "language": "python"
    },
    "language_info": {
      "mimetype": "text/x-python",
      "nbconvert_exporter": "python",
      "name": "python",
      "pygments_lexer": "ipython3",
      "version": "3.6.6",
      "file_extension": ".py",
      "codemirror_mode": {
        "version": 3,
        "name": "ipython"
      }
    }
  },
  "nbformat": 4,
  "nbformat_minor": 2
}