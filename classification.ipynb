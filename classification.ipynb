{
  "cells": [
    {
      "metadata": {
        "trusted": true
      },
      "cell_type": "code",
      "source": "import pandas as pd\nfrom sklearn import preprocessing\nimport sklearn.model_selection as ms\nfrom sklearn import linear_model\nfrom sklearn import svm\nfrom sklearn.ensemble import RandomForestClassifier\nfrom sklearn.ensemble import AdaBoostClassifier\nfrom sklearn.neural_network import MLPClassifier\nfrom sklearn.naive_bayes import GaussianNB, BernoulliNB\nimport numpy as np\nimport numpy.random as nr\nimport matplotlib.pyplot as plt\nimport math\n\n\n%matplotlib inline",
      "execution_count": 11,
      "outputs": []
    },
    {
      "metadata": {
        "trusted": true
      },
      "cell_type": "code",
      "source": "aw_custs = pd.read_csv('AdvWorksCusts.csv')\naw_aveMonth = pd.read_csv('AW_AveMonthSpend.csv')\naw_bike=pd.read_csv('AW_BikeBuyer.csv')",
      "execution_count": 2,
      "outputs": []
    },
    {
      "metadata": {
        "trusted": true
      },
      "cell_type": "code",
      "source": "age=[]\nfor x in aw_custs.BirthDate:\n    age.append(1998-int(x[:4]))\naw_custs['Age']=age\naw_custs.head().T",
      "execution_count": 3,
      "outputs": [
        {
          "output_type": "execute_result",
          "execution_count": 3,
          "data": {
            "text/html": "<div>\n<style scoped>\n    .dataframe tbody tr th:only-of-type {\n        vertical-align: middle;\n    }\n\n    .dataframe tbody tr th {\n        vertical-align: top;\n    }\n\n    .dataframe thead th {\n        text-align: right;\n    }\n</style>\n<table border=\"1\" class=\"dataframe\">\n  <thead>\n    <tr style=\"text-align: right;\">\n      <th></th>\n      <th>0</th>\n      <th>1</th>\n      <th>2</th>\n      <th>3</th>\n      <th>4</th>\n    </tr>\n  </thead>\n  <tbody>\n    <tr>\n      <th>CustomerID</th>\n      <td>11000</td>\n      <td>11001</td>\n      <td>11002</td>\n      <td>11003</td>\n      <td>11004</td>\n    </tr>\n    <tr>\n      <th>Title</th>\n      <td>NaN</td>\n      <td>NaN</td>\n      <td>NaN</td>\n      <td>NaN</td>\n      <td>NaN</td>\n    </tr>\n    <tr>\n      <th>FirstName</th>\n      <td>Jon</td>\n      <td>Eugene</td>\n      <td>Ruben</td>\n      <td>Christy</td>\n      <td>Elizabeth</td>\n    </tr>\n    <tr>\n      <th>MiddleName</th>\n      <td>V</td>\n      <td>L</td>\n      <td>NaN</td>\n      <td>NaN</td>\n      <td>NaN</td>\n    </tr>\n    <tr>\n      <th>LastName</th>\n      <td>Yang</td>\n      <td>Huang</td>\n      <td>Torres</td>\n      <td>Zhu</td>\n      <td>Johnson</td>\n    </tr>\n    <tr>\n      <th>Suffix</th>\n      <td>NaN</td>\n      <td>NaN</td>\n      <td>NaN</td>\n      <td>NaN</td>\n      <td>NaN</td>\n    </tr>\n    <tr>\n      <th>AddressLine1</th>\n      <td>3761 N. 14th St</td>\n      <td>2243 W St.</td>\n      <td>5844 Linden Land</td>\n      <td>1825 Village Pl.</td>\n      <td>7553 Harness Circle</td>\n    </tr>\n    <tr>\n      <th>AddressLine2</th>\n      <td>NaN</td>\n      <td>NaN</td>\n      <td>NaN</td>\n      <td>NaN</td>\n      <td>NaN</td>\n    </tr>\n    <tr>\n      <th>City</th>\n      <td>Rockhampton</td>\n      <td>Seaford</td>\n      <td>Hobart</td>\n      <td>North Ryde</td>\n      <td>Wollongong</td>\n    </tr>\n    <tr>\n      <th>StateProvinceName</th>\n      <td>Queensland</td>\n      <td>Victoria</td>\n      <td>Tasmania</td>\n      <td>New South Wales</td>\n      <td>New South Wales</td>\n    </tr>\n    <tr>\n      <th>CountryRegionName</th>\n      <td>Australia</td>\n      <td>Australia</td>\n      <td>Australia</td>\n      <td>Australia</td>\n      <td>Australia</td>\n    </tr>\n    <tr>\n      <th>PostalCode</th>\n      <td>4700</td>\n      <td>3198</td>\n      <td>7001</td>\n      <td>2113</td>\n      <td>2500</td>\n    </tr>\n    <tr>\n      <th>PhoneNumber</th>\n      <td>1 (11) 500 555-0162</td>\n      <td>1 (11) 500 555-0110</td>\n      <td>1 (11) 500 555-0184</td>\n      <td>1 (11) 500 555-0162</td>\n      <td>1 (11) 500 555-0131</td>\n    </tr>\n    <tr>\n      <th>BirthDate</th>\n      <td>1966-04-08</td>\n      <td>1965-05-14</td>\n      <td>1965-08-12</td>\n      <td>1968-02-15</td>\n      <td>1968-08-08</td>\n    </tr>\n    <tr>\n      <th>Education</th>\n      <td>Bachelors</td>\n      <td>Bachelors</td>\n      <td>Bachelors</td>\n      <td>Bachelors</td>\n      <td>Bachelors</td>\n    </tr>\n    <tr>\n      <th>Occupation</th>\n      <td>Professional</td>\n      <td>Professional</td>\n      <td>Professional</td>\n      <td>Professional</td>\n      <td>Professional</td>\n    </tr>\n    <tr>\n      <th>Gender</th>\n      <td>M</td>\n      <td>M</td>\n      <td>M</td>\n      <td>F</td>\n      <td>F</td>\n    </tr>\n    <tr>\n      <th>MaritalStatus</th>\n      <td>M</td>\n      <td>S</td>\n      <td>M</td>\n      <td>S</td>\n      <td>S</td>\n    </tr>\n    <tr>\n      <th>HomeOwnerFlag</th>\n      <td>1</td>\n      <td>0</td>\n      <td>1</td>\n      <td>0</td>\n      <td>1</td>\n    </tr>\n    <tr>\n      <th>NumberCarsOwned</th>\n      <td>0</td>\n      <td>1</td>\n      <td>1</td>\n      <td>1</td>\n      <td>4</td>\n    </tr>\n    <tr>\n      <th>NumberChildrenAtHome</th>\n      <td>0</td>\n      <td>3</td>\n      <td>3</td>\n      <td>0</td>\n      <td>5</td>\n    </tr>\n    <tr>\n      <th>TotalChildren</th>\n      <td>2</td>\n      <td>3</td>\n      <td>3</td>\n      <td>0</td>\n      <td>5</td>\n    </tr>\n    <tr>\n      <th>YearlyIncome</th>\n      <td>137947</td>\n      <td>101141</td>\n      <td>91945</td>\n      <td>86688</td>\n      <td>92771</td>\n    </tr>\n    <tr>\n      <th>Age</th>\n      <td>32</td>\n      <td>33</td>\n      <td>33</td>\n      <td>30</td>\n      <td>30</td>\n    </tr>\n  </tbody>\n</table>\n</div>",
            "text/plain": "                                        0                    1  \\\nCustomerID                          11000                11001   \nTitle                                 NaN                  NaN   \nFirstName                             Jon               Eugene   \nMiddleName                              V                    L   \nLastName                             Yang                Huang   \nSuffix                                NaN                  NaN   \nAddressLine1              3761 N. 14th St           2243 W St.   \nAddressLine2                          NaN                  NaN   \nCity                          Rockhampton              Seaford   \nStateProvinceName              Queensland             Victoria   \nCountryRegionName               Australia            Australia   \nPostalCode                           4700                 3198   \nPhoneNumber           1 (11) 500 555-0162  1 (11) 500 555-0110   \nBirthDate                      1966-04-08           1965-05-14   \nEducation                      Bachelors            Bachelors    \nOccupation                   Professional         Professional   \nGender                                  M                    M   \nMaritalStatus                           M                    S   \nHomeOwnerFlag                           1                    0   \nNumberCarsOwned                         0                    1   \nNumberChildrenAtHome                    0                    3   \nTotalChildren                           2                    3   \nYearlyIncome                       137947               101141   \nAge                                    32                   33   \n\n                                        2                    3  \\\nCustomerID                          11002                11003   \nTitle                                 NaN                  NaN   \nFirstName                           Ruben              Christy   \nMiddleName                            NaN                  NaN   \nLastName                           Torres                  Zhu   \nSuffix                                NaN                  NaN   \nAddressLine1             5844 Linden Land     1825 Village Pl.   \nAddressLine2                          NaN                  NaN   \nCity                               Hobart           North Ryde   \nStateProvinceName                Tasmania      New South Wales   \nCountryRegionName               Australia            Australia   \nPostalCode                           7001                 2113   \nPhoneNumber           1 (11) 500 555-0184  1 (11) 500 555-0162   \nBirthDate                      1965-08-12           1968-02-15   \nEducation                      Bachelors            Bachelors    \nOccupation                   Professional         Professional   \nGender                                  M                    F   \nMaritalStatus                           M                    S   \nHomeOwnerFlag                           1                    0   \nNumberCarsOwned                         1                    1   \nNumberChildrenAtHome                    3                    0   \nTotalChildren                           3                    0   \nYearlyIncome                        91945                86688   \nAge                                    33                   30   \n\n                                        4  \nCustomerID                          11004  \nTitle                                 NaN  \nFirstName                       Elizabeth  \nMiddleName                            NaN  \nLastName                          Johnson  \nSuffix                                NaN  \nAddressLine1          7553 Harness Circle  \nAddressLine2                          NaN  \nCity                           Wollongong  \nStateProvinceName         New South Wales  \nCountryRegionName               Australia  \nPostalCode                           2500  \nPhoneNumber           1 (11) 500 555-0131  \nBirthDate                      1968-08-08  \nEducation                      Bachelors   \nOccupation                   Professional  \nGender                                  F  \nMaritalStatus                           S  \nHomeOwnerFlag                           1  \nNumberCarsOwned                         4  \nNumberChildrenAtHome                    5  \nTotalChildren                           5  \nYearlyIncome                        92771  \nAge                                    30  "
          },
          "metadata": {}
        }
      ]
    },
    {
      "metadata": {
        "trusted": true
      },
      "cell_type": "code",
      "source": "aw_custs.drop_duplicates(subset='CustomerID', keep='last', inplace=True)\naw_aveMonth.drop_duplicates(subset='CustomerID', keep='last', inplace=True)\naw_bike.drop_duplicates(subset='CustomerID', keep='last', inplace=True)",
      "execution_count": 4,
      "outputs": []
    },
    {
      "metadata": {
        "trusted": true
      },
      "cell_type": "code",
      "source": "features=aw_custs['CountryRegionName']\nenc=preprocessing.LabelEncoder()\nenc.fit(features)\nfeatures=enc.transform(features)\nohe=preprocessing.OneHotEncoder()\nencoded=ohe.fit(features.reshape(-1,1))\nfeatures = encoded.transform(features.reshape(-1,1)).toarray()\nprint(features.shape)",
      "execution_count": 5,
      "outputs": [
        {
          "output_type": "stream",
          "text": "(16404, 6)\n",
          "name": "stdout"
        }
      ]
    },
    {
      "metadata": {
        "trusted": true
      },
      "cell_type": "code",
      "source": "def encode_string(feature):\n    enc=preprocessing.LabelEncoder()\n    enc.fit(feature)\n    enc_feature=enc.transform(feature)\n    ohe=preprocessing.OneHotEncoder()\n    encoded=ohe.fit(enc_feature.reshape(-1,1))\n    return encoded.transform(enc_feature.reshape(-1,1)).toarray()\ncolumns=['Education',\n 'Occupation',\n 'Gender',\n 'MaritalStatus',]\nfor col in columns:\n    temp=encode_string(aw_custs[col])\n    features=np.concatenate([features,temp],axis=1)\nprint(features.shape)",
      "execution_count": 6,
      "outputs": [
        {
          "output_type": "stream",
          "text": "(16404, 20)\n",
          "name": "stdout"
        }
      ]
    },
    {
      "metadata": {
        "trusted": true
      },
      "cell_type": "code",
      "source": "features=np.concatenate([features,np.array(aw_custs[['HomeOwnerFlag','NumberCarsOwned','NumberChildrenAtHome', 'TotalChildren', 'YearlyIncome', 'Age']])],axis=1)\nfeatures.shape",
      "execution_count": 7,
      "outputs": [
        {
          "output_type": "execute_result",
          "execution_count": 7,
          "data": {
            "text/plain": "(16404, 26)"
          },
          "metadata": {}
        }
      ]
    },
    {
      "metadata": {
        "trusted": true
      },
      "cell_type": "code",
      "source": "aw_aveMonth",
      "execution_count": null,
      "outputs": []
    },
    {
      "metadata": {
        "trusted": true
      },
      "cell_type": "code",
      "source": "nr.seed(123)\nlabels=np.array(aw_bike['BikeBuyer'])\nindex=range(features.shape[0])\nindex=ms.train_test_split(index,test_size=3000)\nx_train=features[index[0],:]\ny_train=np.ravel(labels[index[0]])\nx_test=features[index[1],:]\ny_test=np.ravel(labels[index[1]])",
      "execution_count": 8,
      "outputs": []
    },
    {
      "metadata": {
        "trusted": true
      },
      "cell_type": "code",
      "source": "scaler = preprocessing.StandardScaler().fit(x_train[:,-6:])\nx_train[:,-6:]=scaler.transform(x_train[:,-6:])\nx_test[:,-6:]=scaler.transform(x_test[:,-6:])\nprint(x_train.shape)\nx_train[:5,:]",
      "execution_count": 9,
      "outputs": [
        {
          "output_type": "stream",
          "text": "(13404, 26)\n",
          "name": "stdout"
        },
        {
          "output_type": "execute_result",
          "execution_count": 9,
          "data": {
            "text/plain": "array([[ 1.00000000e+00,  0.00000000e+00,  0.00000000e+00,\n         0.00000000e+00,  0.00000000e+00,  0.00000000e+00,\n         0.00000000e+00,  1.00000000e+00,  0.00000000e+00,\n         0.00000000e+00,  0.00000000e+00,  0.00000000e+00,\n         1.00000000e+00,  0.00000000e+00,  0.00000000e+00,\n         0.00000000e+00,  1.00000000e+00,  0.00000000e+00,\n         0.00000000e+00,  1.00000000e+00,  6.94797354e-01,\n        -4.37017607e-01, -6.56034638e-01,  5.93113487e-01,\n         9.44771303e-01,  2.90623161e+00],\n       [ 0.00000000e+00,  0.00000000e+00,  0.00000000e+00,\n         0.00000000e+00,  0.00000000e+00,  1.00000000e+00,\n         0.00000000e+00,  0.00000000e+00,  0.00000000e+00,\n         0.00000000e+00,  1.00000000e+00,  0.00000000e+00,\n         0.00000000e+00,  0.00000000e+00,  0.00000000e+00,\n         1.00000000e+00,  1.00000000e+00,  0.00000000e+00,\n         0.00000000e+00,  1.00000000e+00, -1.43926858e+00,\n         4.37539575e-01, -6.56034638e-01, -1.50829159e-03,\n         7.15833412e-01,  4.97756125e-01],\n       [ 0.00000000e+00,  0.00000000e+00,  0.00000000e+00,\n         0.00000000e+00,  1.00000000e+00,  0.00000000e+00,\n         0.00000000e+00,  0.00000000e+00,  0.00000000e+00,\n         1.00000000e+00,  0.00000000e+00,  1.00000000e+00,\n         0.00000000e+00,  0.00000000e+00,  0.00000000e+00,\n         0.00000000e+00,  1.00000000e+00,  0.00000000e+00,\n         0.00000000e+00,  1.00000000e+00,  6.94797354e-01,\n        -1.31157479e+00,  6.62823747e-01, -1.50829159e-03,\n        -9.56206105e-01, -9.29488605e-01],\n       [ 0.00000000e+00,  0.00000000e+00,  0.00000000e+00,\n         0.00000000e+00,  0.00000000e+00,  1.00000000e+00,\n         0.00000000e+00,  0.00000000e+00,  0.00000000e+00,\n         0.00000000e+00,  1.00000000e+00,  1.00000000e+00,\n         0.00000000e+00,  0.00000000e+00,  0.00000000e+00,\n         0.00000000e+00,  1.00000000e+00,  0.00000000e+00,\n         0.00000000e+00,  1.00000000e+00,  6.94797354e-01,\n         4.37539575e-01, -6.56034638e-01, -1.19075185e+00,\n        -1.14124431e+00, -1.37550258e+00],\n       [ 0.00000000e+00,  0.00000000e+00,  0.00000000e+00,\n         0.00000000e+00,  0.00000000e+00,  1.00000000e+00,\n         1.00000000e+00,  0.00000000e+00,  0.00000000e+00,\n         0.00000000e+00,  0.00000000e+00,  0.00000000e+00,\n         1.00000000e+00,  0.00000000e+00,  0.00000000e+00,\n         0.00000000e+00,  1.00000000e+00,  0.00000000e+00,\n         1.00000000e+00,  0.00000000e+00,  6.94797354e-01,\n         4.37539575e-01,  3.39455493e-03, -5.96130070e-01,\n         1.54431420e+00, -4.83474627e-01]])"
          },
          "metadata": {}
        }
      ]
    },
    {
      "metadata": {
        "trusted": true
      },
      "cell_type": "code",
      "source": "logistic_mod = linear_model.LogisticRegression() \nlogistic_mod.fit(x_train, y_train)",
      "execution_count": null,
      "outputs": []
    },
    {
      "metadata": {
        "trusted": true
      },
      "cell_type": "code",
      "source": "logistic_mod.score(x_test,y_test)",
      "execution_count": null,
      "outputs": []
    },
    {
      "metadata": {
        "trusted": true
      },
      "cell_type": "code",
      "source": "logistic_mod.predict_proba(x_test)",
      "execution_count": null,
      "outputs": []
    },
    {
      "metadata": {
        "trusted": true
      },
      "cell_type": "code",
      "source": "nr.seed(1234)\nrf_cla = RandomForestClassifier()\nrf_cla.fit(x_train, y_train)",
      "execution_count": null,
      "outputs": []
    },
    {
      "metadata": {
        "trusted": true
      },
      "cell_type": "code",
      "source": "rf_cla.score(x_test, y_test)",
      "execution_count": null,
      "outputs": []
    },
    {
      "metadata": {
        "trusted": true
      },
      "cell_type": "code",
      "source": "nr.seed(111)\nab_cla=AdaBoostClassifier()\nab_cla.fit(x_train, y_train)",
      "execution_count": null,
      "outputs": []
    },
    {
      "metadata": {
        "trusted": true
      },
      "cell_type": "code",
      "source": "ab_cla.score(x_test,y_test)",
      "execution_count": null,
      "outputs": []
    },
    {
      "metadata": {
        "trusted": true
      },
      "cell_type": "code",
      "source": "nr.seed(222)\nnn_cla=MLPClassifier()\nnn_cla.fit(x_train,y_train)",
      "execution_count": null,
      "outputs": []
    },
    {
      "metadata": {
        "trusted": true
      },
      "cell_type": "code",
      "source": "nn_cla.score(x_test,y_test)",
      "execution_count": null,
      "outputs": []
    },
    {
      "metadata": {
        "trusted": true
      },
      "cell_type": "code",
      "source": "nr.seed(555)\nsvm_cla=svm.LinearSVC()\nsvm_cla.fit(x_train, y_train)",
      "execution_count": null,
      "outputs": []
    },
    {
      "metadata": {
        "trusted": true
      },
      "cell_type": "code",
      "source": "svm_cla.score(x_test,y_test)",
      "execution_count": null,
      "outputs": []
    },
    {
      "metadata": {
        "trusted": true
      },
      "cell_type": "code",
      "source": "nr.seed(555)\nsvm_cla=svm.SVC()\nsvm_cla.fit(x_train, y_train)",
      "execution_count": null,
      "outputs": []
    },
    {
      "metadata": {
        "trusted": true
      },
      "cell_type": "code",
      "source": "svm_cla.score(x_test,y_test)",
      "execution_count": null,
      "outputs": []
    },
    {
      "metadata": {
        "trusted": true
      },
      "cell_type": "code",
      "source": "nr.seed(666)\ninside=ms.KFold(n_splits=10,shuffle=True)\nnr.seed(777)\noutside=ms.KFold(n_splits=10,shuffle=True)",
      "execution_count": null,
      "outputs": []
    },
    {
      "metadata": {
        "trusted": true
      },
      "cell_type": "code",
      "source": "param_grid = {\"max_features\": [2, 3, 5, 10, 15], \"min_samples_leaf\":[3, 5, 10, 20]}\nnr.seed(888)\nrf_cla=RandomForestClassifier(class_weight = \"balanced\")\nnr.seed(999)\nrf_cla=ms.GridSearchCV(estimator = rf_cla, param_grid = param_grid, \n                      cv = inside,\n                      scoring = 'roc_auc',\n                      return_train_score = True)\nrf_cla.fit(features,labels)",
      "execution_count": null,
      "outputs": []
    },
    {
      "metadata": {
        "trusted": true
      },
      "cell_type": "code",
      "source": "nr.seed(22)\nrf_mod=RandomForestClassifier(class_weight='balanced',\n                             max_features=rf_cla.best_estimator_.max_features,\n                             min_samples_leaf=rf_cla.best_estimator_.min_samples_leaf)\nrf_mod.fit(x_train, y_train)",
      "execution_count": null,
      "outputs": []
    },
    {
      "metadata": {
        "trusted": true
      },
      "cell_type": "code",
      "source": "rf_mod.score(x_test,y_test)  ",
      "execution_count": null,
      "outputs": []
    },
    {
      "metadata": {
        "trusted": true
      },
      "cell_type": "code",
      "source": "nb_mod =GaussianNB()\nnb_mod.fit(x_train,y_train)",
      "execution_count": 12,
      "outputs": [
        {
          "output_type": "execute_result",
          "execution_count": 12,
          "data": {
            "text/plain": "GaussianNB(priors=None)"
          },
          "metadata": {}
        }
      ]
    },
    {
      "metadata": {
        "trusted": true
      },
      "cell_type": "code",
      "source": "nb_mod.score(x_test,y_test)",
      "execution_count": 13,
      "outputs": [
        {
          "output_type": "execute_result",
          "execution_count": 13,
          "data": {
            "text/plain": "0.7753333333333333"
          },
          "metadata": {}
        }
      ]
    },
    {
      "metadata": {
        "trusted": true
      },
      "cell_type": "code",
      "source": "nr.seed(77)\ninside=ms.KFold(n_splits=10,shuffle=True)\nnr.seed(88)\noutside=ms.KFold(n_splits=10,shuffle=True)",
      "execution_count": 14,
      "outputs": []
    },
    {
      "metadata": {
        "trusted": true
      },
      "cell_type": "code",
      "source": "nr.seed(99)\nparam_grid={\"alpha\":[0.0001, 0.001, 0.01, 0.1, 1, 10]}\nnb_cla=BernoulliNB()\ncla=ms.GridSearchCV(estimator = nb_cla, param_grid = param_grid, \n                      cv = inside,\n                      scoring = 'roc_auc',\n                      return_train_score = True)\ncla.fit(features,labels)\ncla.best_estimator_.alpha",
      "execution_count": 16,
      "outputs": [
        {
          "output_type": "execute_result",
          "execution_count": 16,
          "data": {
            "text/plain": "10"
          },
          "metadata": {}
        }
      ]
    },
    {
      "metadata": {
        "trusted": true
      },
      "cell_type": "code",
      "source": "nb_mod=BernoulliNB(alpha=cla.best_estimator_.alpha)\nnb_mod.fit(x_train,y_train)",
      "execution_count": 19,
      "outputs": [
        {
          "output_type": "execute_result",
          "execution_count": 19,
          "data": {
            "text/plain": "BernoulliNB(alpha=10, binarize=0.0, class_prior=None, fit_prior=True)"
          },
          "metadata": {}
        }
      ]
    },
    {
      "metadata": {
        "trusted": true
      },
      "cell_type": "code",
      "source": "nb_mod.score(x_test,y_test)",
      "execution_count": 20,
      "outputs": [
        {
          "output_type": "execute_result",
          "execution_count": 20,
          "data": {
            "text/plain": "0.7676666666666667"
          },
          "metadata": {}
        }
      ]
    },
    {
      "metadata": {
        "trusted": true
      },
      "cell_type": "code",
      "source": "",
      "execution_count": null,
      "outputs": []
    }
  ],
  "metadata": {
    "kernelspec": {
      "name": "python36",
      "display_name": "Python 3.6",
      "language": "python"
    },
    "language_info": {
      "mimetype": "text/x-python",
      "nbconvert_exporter": "python",
      "name": "python",
      "pygments_lexer": "ipython3",
      "version": "3.6.6",
      "file_extension": ".py",
      "codemirror_mode": {
        "version": 3,
        "name": "ipython"
      }
    }
  },
  "nbformat": 4,
  "nbformat_minor": 2
}