{
  "cells": [
    {
      "metadata": {
        "trusted": true
      },
      "cell_type": "code",
      "source": "import pandas as pd\nfrom sklearn import preprocessing\nimport sklearn.model_selection as ms\nfrom sklearn import linear_model\nfrom sklearn import svm\nfrom sklearn.ensemble import RandomForestClassifier\nfrom sklearn.ensemble import AdaBoostClassifier\nfrom sklearn.neural_network import MLPClassifier\nfrom sklearn.naive_bayes import GaussianNB, BernoulliNB\nimport numpy as np\nimport numpy.random as nr\nimport matplotlib.pyplot as plt\nimport math\n\n\n%matplotlib inline",
      "execution_count": null,
      "outputs": []
    },
    {
      "metadata": {
        "trusted": true
      },
      "cell_type": "code",
      "source": "aw_custs = pd.read_csv('AdvWorksCusts.csv')\naw_aveMonth = pd.read_csv('AW_AveMonthSpend.csv')\naw_bike=pd.read_csv('AW_BikeBuyer.csv')",
      "execution_count": null,
      "outputs": []
    },
    {
      "metadata": {
        "trusted": true
      },
      "cell_type": "code",
      "source": "age=[]\nfor x in aw_custs.BirthDate:\n    age.append(1998-int(x[:4]))\naw_custs['Age']=age\naw_custs.head().T",
      "execution_count": null,
      "outputs": []
    },
    {
      "metadata": {
        "trusted": true
      },
      "cell_type": "code",
      "source": "aw_custs.drop_duplicates(subset='CustomerID', keep='last', inplace=True)\naw_aveMonth.drop_duplicates(subset='CustomerID', keep='last', inplace=True)\naw_bike.drop_duplicates(subset='CustomerID', keep='last', inplace=True)",
      "execution_count": null,
      "outputs": []
    },
    {
      "metadata": {
        "trusted": true
      },
      "cell_type": "code",
      "source": "features=aw_custs['CountryRegionName']\nenc=preprocessing.LabelEncoder()\nenc.fit(features)\nfeatures=enc.transform(features)\nohe=preprocessing.OneHotEncoder()\nencoded=ohe.fit(features.reshape(-1,1))\nfeatures = encoded.transform(features.reshape(-1,1)).toarray()\nprint(features.shape)",
      "execution_count": null,
      "outputs": []
    },
    {
      "metadata": {
        "trusted": true
      },
      "cell_type": "code",
      "source": "def encode_string(feature):\n    enc=preprocessing.LabelEncoder()\n    enc.fit(feature)\n    enc_feature=enc.transform(feature)\n    ohe=preprocessing.OneHotEncoder()\n    encoded=ohe.fit(enc_feature.reshape(-1,1))\n    return encoded.transform(enc_feature.reshape(-1,1)).toarray()\ncolumns=['Education',\n 'Occupation',\n 'Gender',\n 'MaritalStatus',]\nfor col in columns:\n    temp=encode_string(aw_custs[col])\n    features=np.concatenate([features,temp],axis=1)\nprint(features.shape)",
      "execution_count": null,
      "outputs": []
    },
    {
      "metadata": {
        "trusted": true
      },
      "cell_type": "code",
      "source": "features=np.concatenate([features,np.array(aw_custs[['HomeOwnerFlag','NumberCarsOwned','NumberChildrenAtHome', 'TotalChildren', 'YearlyIncome', 'Age']])],axis=1)\nfeatures.shape",
      "execution_count": null,
      "outputs": []
    },
    {
      "metadata": {
        "trusted": true
      },
      "cell_type": "code",
      "source": "aw_aveMonth",
      "execution_count": null,
      "outputs": []
    },
    {
      "metadata": {
        "trusted": true
      },
      "cell_type": "code",
      "source": "nr.seed(123)\nlabels=np.array(aw_bike['BikeBuyer'])\nindex=range(features.shape[0])\nindex=ms.train_test_split(index,test_size=3000)\nx_train=features[index[0],:]\ny_train=np.ravel(labels[index[0]])\nx_test=features[index[1],:]\ny_test=np.ravel(labels[index[1]])",
      "execution_count": null,
      "outputs": []
    },
    {
      "metadata": {
        "trusted": true
      },
      "cell_type": "code",
      "source": "scaler = preprocessing.StandardScaler().fit(x_train[:,-6:])\nx_train[:,-6:]=scaler.transform(x_train[:,-6:])\nx_test[:,-6:]=scaler.transform(x_test[:,-6:])\nprint(x_train.shape)\nx_train[:5,:]",
      "execution_count": null,
      "outputs": []
    },
    {
      "metadata": {
        "trusted": true
      },
      "cell_type": "code",
      "source": "logistic_mod = linear_model.LogisticRegression() \nlogistic_mod.fit(x_train, y_train)",
      "execution_count": null,
      "outputs": []
    },
    {
      "metadata": {
        "trusted": true
      },
      "cell_type": "code",
      "source": "logistic_mod.score(x_test,y_test)",
      "execution_count": null,
      "outputs": []
    },
    {
      "metadata": {
        "trusted": true
      },
      "cell_type": "code",
      "source": "logistic_mod.predict_proba(x_test)",
      "execution_count": null,
      "outputs": []
    },
    {
      "metadata": {
        "trusted": true
      },
      "cell_type": "code",
      "source": "nr.seed(1234)\nrf_cla = RandomForestClassifier()\nrf_cla.fit(x_train, y_train)",
      "execution_count": null,
      "outputs": []
    },
    {
      "metadata": {
        "trusted": true
      },
      "cell_type": "code",
      "source": "rf_cla.score(x_test, y_test)",
      "execution_count": null,
      "outputs": []
    },
    {
      "metadata": {
        "trusted": true
      },
      "cell_type": "code",
      "source": "nr.seed(111)\nab_cla=AdaBoostClassifier()\nab_cla.fit(x_train, y_train)",
      "execution_count": null,
      "outputs": []
    },
    {
      "metadata": {
        "trusted": true
      },
      "cell_type": "code",
      "source": "ab_cla.score(x_test,y_test)",
      "execution_count": null,
      "outputs": []
    },
    {
      "metadata": {
        "trusted": true
      },
      "cell_type": "code",
      "source": "nr.seed(222)\nnn_cla=MLPClassifier()\nnn_cla.fit(x_train,y_train)",
      "execution_count": null,
      "outputs": []
    },
    {
      "metadata": {
        "trusted": true
      },
      "cell_type": "code",
      "source": "nn_cla.score(x_test,y_test)",
      "execution_count": null,
      "outputs": []
    },
    {
      "metadata": {
        "trusted": true
      },
      "cell_type": "code",
      "source": "nr.seed(555)\nsvm_cla=svm.LinearSVC()\nsvm_cla.fit(x_train, y_train)",
      "execution_count": null,
      "outputs": []
    },
    {
      "metadata": {
        "trusted": true
      },
      "cell_type": "code",
      "source": "svm_cla.score(x_test,y_test)",
      "execution_count": null,
      "outputs": []
    },
    {
      "metadata": {
        "trusted": true
      },
      "cell_type": "code",
      "source": "nr.seed(555)\nsvm_cla=svm.SVC()\nsvm_cla.fit(x_train, y_train)",
      "execution_count": null,
      "outputs": []
    },
    {
      "metadata": {
        "trusted": true
      },
      "cell_type": "code",
      "source": "svm_cla.score(x_test,y_test)",
      "execution_count": null,
      "outputs": []
    },
    {
      "metadata": {
        "trusted": true
      },
      "cell_type": "code",
      "source": "nr.seed(666)\ninside=ms.KFold(n_splits=10,shuffle=True)\nnr.seed(777)\noutside=ms.KFold(n_splits=10,shuffle=True)",
      "execution_count": null,
      "outputs": []
    },
    {
      "metadata": {
        "trusted": true
      },
      "cell_type": "code",
      "source": "param_grid = {\"max_features\": [2, 3, 5, 10, 15], \"min_samples_leaf\":[3, 5, 10, 20]}\nnr.seed(888)\nrf_cla=RandomForestClassifier(class_weight = \"balanced\")\nnr.seed(999)\nrf_cla=ms.GridSearchCV(estimator = rf_cla, param_grid = param_grid, \n                      cv = inside,\n                      scoring = 'roc_auc',\n                      return_train_score = True)\nrf_cla.fit(features,labels)",
      "execution_count": null,
      "outputs": []
    },
    {
      "metadata": {
        "trusted": true
      },
      "cell_type": "code",
      "source": "nr.seed(22)\nrf_mod=RandomForestClassifier(class_weight='balanced',\n                             max_features=rf_cla.best_estimator_.max_features,\n                             min_samples_leaf=rf_cla.best_estimator_.min_samples_leaf)\nrf_mod.fit(x_train, y_train)",
      "execution_count": null,
      "outputs": []
    },
    {
      "metadata": {
        "trusted": true
      },
      "cell_type": "code",
      "source": "rf_mod.score(x_test,y_test)  ",
      "execution_count": null,
      "outputs": []
    },
    {
      "metadata": {
        "trusted": true
      },
      "cell_type": "code",
      "source": "nb_mod =GaussianNB()\nnb_mod.fit(x_train,y_train)",
      "execution_count": null,
      "outputs": []
    },
    {
      "metadata": {
        "trusted": true
      },
      "cell_type": "code",
      "source": "nb_mod.score(x_test,y_test)",
      "execution_count": null,
      "outputs": []
    },
    {
      "metadata": {
        "trusted": true
      },
      "cell_type": "code",
      "source": "nr.seed(77)\ninside=ms.KFold(n_splits=10,shuffle=True)\nnr.seed(88)\noutside=ms.KFold(n_splits=10,shuffle=True)",
      "execution_count": null,
      "outputs": []
    },
    {
      "metadata": {
        "trusted": true
      },
      "cell_type": "code",
      "source": "nr.seed(99)\nparam_grid={\"alpha\":[0.0001, 0.001, 0.01, 0.1, 1, 10]}\nnb_cla=BernoulliNB()\ncla=ms.GridSearchCV(estimator = nb_cla, param_grid = param_grid, \n                      cv = inside,\n                      scoring = 'roc_auc',\n                      return_train_score = True)\ncla.fit(features,labels)\ncla.best_estimator_.alpha",
      "execution_count": null,
      "outputs": []
    },
    {
      "metadata": {
        "trusted": true
      },
      "cell_type": "code",
      "source": "nb_mod=BernoulliNB(alpha=cla.best_estimator_.alpha)\nnb_mod.fit(x_train,y_train)",
      "execution_count": null,
      "outputs": []
    },
    {
      "metadata": {
        "trusted": true
      },
      "cell_type": "code",
      "source": "nb_mod.score(x_test,y_test)",
      "execution_count": null,
      "outputs": []
    },
    {
      "metadata": {
        "trusted": true
      },
      "cell_type": "code",
      "source": "",
      "execution_count": null,
      "outputs": []
    }
  ],
  "metadata": {
    "kernelspec": {
      "name": "python36",
      "display_name": "Python 3.6",
      "language": "python"
    },
    "language_info": {
      "mimetype": "text/x-python",
      "nbconvert_exporter": "python",
      "name": "python",
      "pygments_lexer": "ipython3",
      "version": "3.6.6",
      "file_extension": ".py",
      "codemirror_mode": {
        "version": 3,
        "name": "ipython"
      }
    }
  },
  "nbformat": 4,
  "nbformat_minor": 2
}