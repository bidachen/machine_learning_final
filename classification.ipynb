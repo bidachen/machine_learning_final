{
  "cells": [
    {
      "metadata": {
        "trusted": true
      },
      "cell_type": "code",
      "source": "import pandas as pd\nimport matplotlib.pyplot as plt\nimport seaborn as sns\nimport numpy as np\nimport numpy.random as nr\nimport math\nfrom sklearn import preprocessing\nimport sklearn.model_selection as ms\nfrom sklearn import linear_model\nimport sklearn.metrics as sklm\n\n%matplotlib inline",
      "execution_count": null,
      "outputs": []
    },
    {
      "metadata": {
        "trusted": true
      },
      "cell_type": "code",
      "source": "aw_custs = pd.read_csv('AdvWorksCusts.csv')\naw_aveMonth = pd.read_csv('AW_AveMonthSpend.csv')\naw_bike=pd.read_csv('AW_BikeBuyer.csv')",
      "execution_count": null,
      "outputs": []
    },
    {
      "metadata": {
        "trusted": true
      },
      "cell_type": "code",
      "source": "aw_custs.drop_duplicates(subset='CustomerID', keep='last', inplace=True)\naw_aveMonth.drop_duplicates(subset='CustomerID', keep='last', inplace=True)\naw_bike.drop_duplicates(subset='CustomerID', keep='last', inplace=True)",
      "execution_count": null,
      "outputs": []
    },
    {
      "metadata": {
        "trusted": true
      },
      "cell_type": "code",
      "source": "features=aw_custs['CountryRegionName']\nenc=preprocessing.LabelEncoder()\nenc.fit(features)\nfeatures=enc.transform(features)\nohe=preprocessing.OneHotEncoder()\nencoded=ohe.fit(features.reshape(-1,1))\nfeatures = encoded.transform(features.reshape(-1,1)).toarray()\nprint(features.shape)",
      "execution_count": null,
      "outputs": []
    },
    {
      "metadata": {
        "trusted": true
      },
      "cell_type": "code",
      "source": "def encode_string(feature):\n    enc=preprocessing.LabelEncoder()\n    enc.fit(feature)\n    enc_feature=enc.transform(feature)\n    ohe=preprocessing.OneHotEncoder()\n    encoded=ohe.fit(enc_feature.reshape(-1,1))\n    return encoded.transform(enc_feature.reshape(-1,1)).toarray()\ncolumns=['Education',\n 'Occupation',\n 'Gender',\n 'MaritalStatus',]\nfor col in columns:\n    temp=encode_string(aw_custs[col])\n    features=np.concatenate([features,temp],axis=1)\nprint(features.shape)",
      "execution_count": null,
      "outputs": []
    },
    {
      "metadata": {
        "trusted": true
      },
      "cell_type": "code",
      "source": "features=np.concatenate([features,np.array(aw_custs[['HomeOwnerFlag','NumberCarsOwned','NumberChildrenAtHome', 'TotalChildren', 'YearlyIncome']])],axis=1)\nfeatures.shape",
      "execution_count": null,
      "outputs": []
    },
    {
      "metadata": {
        "trusted": true
      },
      "cell_type": "code",
      "source": "aw_aveMonth",
      "execution_count": null,
      "outputs": []
    },
    {
      "metadata": {
        "trusted": true
      },
      "cell_type": "code",
      "source": "nr.seed(123)\nlabels=np.array(aw_bike['BikeBuyer'])\nindex=range(features.shape[0])\nindex=ms.train_test_split(index,test_size=3000)\nx_train=features[index[0],:]\ny_train=np.ravel(labels[index[0]])\nx_test=features[index[1],:]\ny_test=np.ravel(labels[index[1]])",
      "execution_count": null,
      "outputs": []
    },
    {
      "metadata": {
        "trusted": true
      },
      "cell_type": "code",
      "source": "scaler = preprocessing.StandardScaler().fit(x_train[:,-1:])\nx_train[:,-1:]=scaler.transform(x_train[:,-1:])\nx_test[:,-1:]=scaler.transform(x_test[:,-1:])\nprint(x_train.shape)\nx_train[:5,:]",
      "execution_count": null,
      "outputs": []
    },
    {
      "metadata": {
        "trusted": true
      },
      "cell_type": "code",
      "source": "logistic_mod = linear_model.LogisticRegression() \nlogistic_mod.fit(x_train, y_train)",
      "execution_count": null,
      "outputs": []
    },
    {
      "metadata": {
        "trusted": true
      },
      "cell_type": "code",
      "source": "logistic_mod.score(x_test,y_test)",
      "execution_count": null,
      "outputs": []
    },
    {
      "metadata": {
        "trusted": true
      },
      "cell_type": "code",
      "source": "logistic_mod.predict_proba(x_test)",
      "execution_count": null,
      "outputs": []
    },
    {
      "metadata": {
        "trusted": true
      },
      "cell_type": "code",
      "source": "",
      "execution_count": null,
      "outputs": []
    }
  ],
  "metadata": {
    "kernelspec": {
      "name": "python36",
      "display_name": "Python 3.6",
      "language": "python"
    },
    "language_info": {
      "mimetype": "text/x-python",
      "nbconvert_exporter": "python",
      "name": "python",
      "pygments_lexer": "ipython3",
      "version": "3.6.6",
      "file_extension": ".py",
      "codemirror_mode": {
        "version": 3,
        "name": "ipython"
      }
    }
  },
  "nbformat": 4,
  "nbformat_minor": 2
}